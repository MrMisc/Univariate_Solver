{
 "cells": [
  {
   "cell_type": "code",
   "execution_count": 2,
   "metadata": {},
   "outputs": [],
   "source": [
    "phi = ((.25749*2.5 - 1)*1765.45)**(-1) * (7860-1765.45)"
   ]
  },
  {
   "cell_type": "code",
   "execution_count": 4,
   "metadata": {},
   "outputs": [],
   "source": [
    "import numpy as np\n",
    "\n",
    "\n",
    "def bisectioN(f, a, b, tol):\n",
    "    iteration = 0\n",
    "    if (f(a) * f(b) < 0.0):\n",
    "        while ((b-a)>tol) and iteration < nMax:\n",
    "            iteration = iteration + 1\n",
    "            x = (a + b)/2\n",
    "            if (f(a) * f(x) < 0.0):\n",
    "                b = x\n",
    "            elif (f(b) * f(x) < 0.0):\n",
    "                a = x\n",
    "            else:\n",
    "                print('failure')\n",
    "                break\n",
    "        \n",
    "    return x "
   ]
  },
  {
   "cell_type": "code",
   "execution_count": 13,
   "metadata": {},
   "outputs": [],
   "source": [
    "import numpy as np\n",
    "def newtoN(f, df, x0, tol):\n",
    "    # f = the function f(x)\n",
    "    # df = the derivative of f(x)\n",
    "    # x0 = the initial guess of the solution\n",
    "    # tol = tolerance for the absolute error of two subsequent approximations\n",
    "    err = 1.0\n",
    "    iteration = 0\n",
    "    \n",
    "    xk = x0\n",
    "    while (err > tol) and iteration < nMax:\n",
    "        iteration = iteration + 1\n",
    "        err = xk\n",
    "        xk = xk - f(xk)/df(xk)\n",
    "        err = abs(err - xk)\n",
    "    if iteration == nMax:\n",
    "        print(\"Oops, Failure!\")\n",
    "    return xk"
   ]
  },
  {
   "cell_type": "code",
   "execution_count": 16,
   "metadata": {},
   "outputs": [],
   "source": [
    "def findzero(a,b,maxit,f,df,tol):\n",
    "    n = maxit\n",
    "    ierr = 0.1\n",
    "    if (f(a) * f(b) < 0.0):   #Removed while loop to only have bisection method carried out once at the start.\n",
    "        x0 = (a + b) / 2.\n",
    "    else:\n",
    "        print(\"Failure to initiate Bisection\")\n",
    "        return\n",
    "    \n",
    "    x = []\n",
    "    x.append(x0)\n",
    "    niter = 1\n",
    "    for i in range(1, n):\n",
    "        x.append(x[i-1] - f(x[i-1])/df(x[i-1]))\n",
    "        err = abs(x[i] - x[i-1])\n",
    "        if (a <= x[i] <= b) or (b <= x[i] <= a):\n",
    "            pass\n",
    "        else:\n",
    "            x[i] = ((a + b) / 2.)\n",
    "        if (err < tol):\n",
    "            ierr = 0.\n",
    "            break\n",
    "        if (f(a) * f(x[i]) < 0.0):\n",
    "            b = x[i]\n",
    "        elif (f(b) * f(x[i]) < 0.0):\n",
    "            a = x[i]\n",
    "        if (niter >= maxit - 1):\n",
    "            ierr = 2.\n",
    "            print(\"WARNING: Failure to calculate a satisfactory approximation of x* due to maxiumum number of iterations having been crossed.\")\n",
    "            break\n",
    "        else:\n",
    "            niter += 1\n",
    "\n",
    "    print(\"With {} iterations, a final approximated value of {} has been computed, whereby ierr = {}\".format(niter, x[i], ierr))"
   ]
  },
  {
   "cell_type": "code",
   "execution_count": 3,
   "metadata": {},
   "outputs": [],
   "source": [
    "def f(x):\n",
    "    y = x**(-3)  - phi*x**2 + phi - 1\n",
    "    return y"
   ]
  },
  {
   "cell_type": "code",
   "execution_count": 12,
   "metadata": {},
   "outputs": [],
   "source": [
    "def df(x):\n",
    "    y = -3*x**(-4) -2*x*phi\n",
    "    return y"
   ]
  },
  {
   "cell_type": "code",
   "execution_count": 10,
   "metadata": {},
   "outputs": [
    {
     "data": {
      "text/plain": [
       "0.4932711480637224"
      ]
     },
     "execution_count": 10,
     "metadata": {},
     "output_type": "execute_result"
    }
   ],
   "source": [
    "a = 1E-10\n",
    "b= 1-1E-10\n",
    "nMax=10000000\n",
    "tol = 1E-12\n",
    "bisectioN(f, a, b, tol)"
   ]
  },
  {
   "cell_type": "code",
   "execution_count": 15,
   "metadata": {},
   "outputs": [
    {
     "data": {
      "text/plain": [
       "0.493271148063068"
      ]
     },
     "execution_count": 15,
     "metadata": {},
     "output_type": "execute_result"
    }
   ],
   "source": [
    "tol=1E-16\n",
    "newtoN(f,df,0.55, tol)"
   ]
  },
  {
   "cell_type": "code",
   "execution_count": 18,
   "metadata": {},
   "outputs": [
    {
     "name": "stdout",
     "output_type": "stream",
     "text": [
      "With 5 iterations, a final approximated value of 0.493271148063068 has been computed, whereby ierr = 0.0\n"
     ]
    }
   ],
   "source": [
    "findzero(a, b, 5000000, f, df, tol)"
   ]
  }
 ],
 "metadata": {
  "kernelspec": {
   "display_name": "Python 3",
   "language": "python",
   "name": "python3"
  },
  "language_info": {
   "codemirror_mode": {
    "name": "ipython",
    "version": 3
   },
   "file_extension": ".py",
   "mimetype": "text/x-python",
   "name": "python",
   "nbconvert_exporter": "python",
   "pygments_lexer": "ipython3",
   "version": "3.7.3"
  }
 },
 "nbformat": 4,
 "nbformat_minor": 4
}
